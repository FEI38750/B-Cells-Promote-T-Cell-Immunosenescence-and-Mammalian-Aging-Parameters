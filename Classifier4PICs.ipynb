{
 "cells": [
  {
   "cell_type": "code",
   "execution_count": null,
   "id": "6b4366f0-2bc9-4787-bc96-1b756ae61612",
   "metadata": {},
   "outputs": [],
   "source": [
    "import h2o\n",
    "h2o.init(nthreads=40)  # Limit to 40 CPUs"
   ]
  },
  {
   "cell_type": "code",
   "execution_count": 21,
   "id": "38533b71-1336-4522-8a8e-15dd261c984b",
   "metadata": {},
   "outputs": [],
   "source": [
    "from h2o.automl import H2OAutoML"
   ]
  },
  {
   "cell_type": "code",
   "execution_count": 78,
   "id": "16a38c41-3872-4fec-a693-50c12049d573",
   "metadata": {},
   "outputs": [],
   "source": [
    "import numpy as np\n",
    "import pandas as pd\n",
    "import os"
   ]
  },
  {
   "cell_type": "code",
   "execution_count": null,
   "id": "fcd88a90-a5b3-4d81-98e0-6053e6798a48",
   "metadata": {},
   "outputs": [],
   "source": [
    "%cd '/opt/home/buckcenter.org/fwu/PICseq'"
   ]
  },
  {
   "cell_type": "code",
   "execution_count": null,
   "id": "f1905e5e-4989-4f2c-b80d-623b91a9e25d",
   "metadata": {},
   "outputs": [],
   "source": [
    "%pwd\n",
    "print(os.getcwd())"
   ]
  },
  {
   "cell_type": "code",
   "execution_count": null,
   "id": "76ef56dd-2f8a-4ae5-bd6a-dd98c06715c8",
   "metadata": {},
   "outputs": [],
   "source": [
    "count_matrix = h2o.import_file(\"TB_combined_data.csv\")"
   ]
  },
  {
   "cell_type": "code",
   "execution_count": null,
   "id": "fb856013-f9d7-4be3-9d3e-935e6ce8cf23",
   "metadata": {},
   "outputs": [],
   "source": [
    "count_matrix.head()"
   ]
  },
  {
   "cell_type": "code",
   "execution_count": 33,
   "id": "4e6ad315-07b7-42a7-ad28-4b10302d1871",
   "metadata": {},
   "outputs": [],
   "source": [
    "count_matrix = count_matrix.drop(\"C1\")"
   ]
  },
  {
   "cell_type": "code",
   "execution_count": 34,
   "id": "049686aa-4650-44ff-a7ea-eb731bcaa3b2",
   "metadata": {},
   "outputs": [],
   "source": [
    "train, test = count_matrix.split_frame(ratios=[0.8], seed=42)"
   ]
  },
  {
   "cell_type": "code",
   "execution_count": null,
   "id": "a2e43fce-e199-4822-a0cf-439133d8fe57",
   "metadata": {},
   "outputs": [],
   "source": [
    "train.head()"
   ]
  },
  {
   "cell_type": "code",
   "execution_count": 36,
   "id": "653b2a56-9d21-48ad-bf3e-e082c460cc7c",
   "metadata": {},
   "outputs": [],
   "source": [
    "# Identify predictors and response\n",
    "x = train.columns\n",
    "y = \"AD_label\"\n",
    "x.remove(y)"
   ]
  },
  {
   "cell_type": "code",
   "execution_count": 37,
   "id": "8634f75e-189c-4005-bcdf-44f1293fa5ca",
   "metadata": {},
   "outputs": [],
   "source": [
    "# For classification, response should be a factor\n",
    "train[y] = train[y].asfactor()\n",
    "test[y] = test[y].asfactor()"
   ]
  },
  {
   "cell_type": "code",
   "execution_count": 38,
   "id": "e8c33070-d54b-4796-8346-dd5ce936e096",
   "metadata": {},
   "outputs": [
    {
     "data": {
      "text/plain": [
       "{'AD_label': 'enum'}"
      ]
     },
     "execution_count": 38,
     "metadata": {},
     "output_type": "execute_result"
    }
   ],
   "source": [
    "test[y].types"
   ]
  },
  {
   "cell_type": "code",
   "execution_count": 40,
   "id": "bddc97e1-a455-433c-a3b9-66f930070aba",
   "metadata": {},
   "outputs": [],
   "source": [
    "aml = H2OAutoML(max_models=5, seed = 10, verbosity='info',\n",
    "                max_runtime_secs=72000,\n",
    "                max_runtime_secs_per_model = 36000,\n",
    "               include_algos = [\"XGBoost\", \"GLM\", \"DRF\", \"StackedEnsemble\"],\n",
    "               export_checkpoints_dir=\"/opt/home/buckcenter.org/fwu/PICseq\")"
   ]
  },
  {
   "cell_type": "code",
   "execution_count": null,
   "id": "8c8e75c8-2ccb-4a58-87b6-0745c345b712",
   "metadata": {
    "scrolled": true
   },
   "outputs": [],
   "source": [
    "aml.train(x = x, y = y, training_frame = train)"
   ]
  },
  {
   "cell_type": "code",
   "execution_count": null,
   "id": "e8d6ec0a-6a42-49d8-b94c-e31740e8be16",
   "metadata": {},
   "outputs": [],
   "source": [
    "# View the AutoML Leaderboard\n",
    "lb = aml.leaderboard\n",
    "lb.head(rows=lb.nrows)  # Print all rows instead of default (10 rows)"
   ]
  },
  {
   "cell_type": "code",
   "execution_count": null,
   "id": "569ea34d-8e78-4278-ac51-8f6d1414e5ce",
   "metadata": {},
   "outputs": [],
   "source": [
    "lb_all = h2o.automl.get_leaderboard(aml, extra_columns = \"All\")\n",
    "lb_all"
   ]
  },
  {
   "cell_type": "code",
   "execution_count": null,
   "id": "e8f97a78-cf2b-45b7-b750-53f508785427",
   "metadata": {
    "scrolled": true
   },
   "outputs": [],
   "source": [
    "# The leader model is stored here\n",
    "aml.leader"
   ]
  },
  {
   "cell_type": "code",
   "execution_count": null,
   "id": "7f4a0871-99bc-4c86-bcfa-9f25e2d25e82",
   "metadata": {
    "scrolled": true
   },
   "outputs": [],
   "source": [
    "aml.leader.explain(test)"
   ]
  },
  {
   "cell_type": "code",
   "execution_count": 55,
   "id": "10d1579e-b8f1-47e2-850e-529c1c98f6f5",
   "metadata": {},
   "outputs": [],
   "source": [
    "# load the saved best model after training, here is named 'StackedEnsemble_AllModels_1_AutoML_2_20240408_152426'\n",
    "aml=h2o.load_model(\"/opt/home/buckcenter.org/fwu/PICseq/StackedEnsemble_AllModels_1_AutoML_2_20240408_152426\")"
   ]
  },
  {
   "cell_type": "code",
   "execution_count": null,
   "id": "5ec18e57-5978-4d33-83dc-a2dd511fbab8",
   "metadata": {},
   "outputs": [],
   "source": [
    "# To generate predictions on a test set for the additional accuracy tests\n",
    "# directly on the `H2OAutoML` object or on the leader model\n",
    "# object directly\n",
    "preds = aml.predict(test)"
   ]
  },
  {
   "cell_type": "code",
   "execution_count": null,
   "id": "242d24e2-c4b1-49d0-9384-7f7aafd3aac9",
   "metadata": {},
   "outputs": [],
   "source": [
    "preds.head()"
   ]
  },
  {
   "cell_type": "code",
   "execution_count": null,
   "id": "9cab15d8-98cf-45fa-8a62-75d847573c93",
   "metadata": {},
   "outputs": [],
   "source": [
    "# Convert the H2O Frame to a pandas DataFrame\n",
    "preds_df = preds.as_data_frame()\n",
    "\n",
    "# Show the DataFrame\n",
    "print(preds_df)"
   ]
  },
  {
   "cell_type": "code",
   "execution_count": 58,
   "id": "a5801cb7-ac7a-4ecd-bae9-b51d24e142c8",
   "metadata": {},
   "outputs": [],
   "source": [
    "preds_df.to_csv(\"h2o_pred_test.csv\")"
   ]
  },
  {
   "cell_type": "code",
   "execution_count": null,
   "id": "551d1258-7bcb-4f7b-b72d-395d53a5b049",
   "metadata": {},
   "outputs": [],
   "source": [
    "# Step 1: Find the maximum probability for each prediction\n",
    "max_probs = preds_df.iloc[:, 1:].max(axis=1)  # Skip the first column which contains the predicted class labels\n",
    "\n",
    "# Step 2: Apply the threshold and set predictions with max probability < 0.5 to \"unknown\"\n",
    "threshold = 0.5\n",
    "preds_df['predict'] = preds_df.apply(lambda row: \"unknown\" if max_probs[row.name] < threshold else row['predict'], axis=1)\n",
    "\n",
    "# Now preds_df contains the adjusted predictions with 'unknown' for those below the threshold\n",
    "print(preds_df[['predict']])"
   ]
  },
  {
   "cell_type": "code",
   "execution_count": null,
   "id": "b07fc3d6-daac-4ed3-8d2e-d652148237c1",
   "metadata": {},
   "outputs": [],
   "source": [
    "# Convert H2O Frame to pandas DataFrame for easier manipulation\n",
    "test_df = h2o.as_list(test[y])\n",
    "\n",
    "# Ensure the indices align between the predictions and the true labels\n",
    "test_df.index = preds_df.index\n",
    "\n",
    "# Filter out 'unknown' predictions\n",
    "filtered_preds_df = preds_df[preds_df['predict'] != 'unknown']\n",
    "\n",
    "# Align true labels with filtered predictions\n",
    "true_labels_filtered = test_df.loc[filtered_preds_df.index]\n",
    "\n",
    "# Calculate the number of correct predictions\n",
    "correct_predictions = (filtered_preds_df['predict'] == true_labels_filtered[y]).sum()\n",
    "\n",
    "# Calculate accuracy\n",
    "accuracy = correct_predictions / len(filtered_preds_df)\n",
    "print(f\"Accuracy after ignoring low-confidence predictions: {accuracy:.4f}\")\n"
   ]
  },
  {
   "cell_type": "code",
   "execution_count": null,
   "id": "3b08ab6f-401d-4821-807e-e6ba7ddbc726",
   "metadata": {},
   "outputs": [],
   "source": [
    "########## prediction for real PICs ##########\n",
    "count_matrix_PICs = h2o.import_file(\"PICs_pred.csv\")"
   ]
  },
  {
   "cell_type": "code",
   "execution_count": null,
   "id": "c2597436-e928-4cf8-bc5e-3c4b1f4d52a7",
   "metadata": {},
   "outputs": [],
   "source": [
    "count_matrix_PICs.head()"
   ]
  },
  {
   "cell_type": "code",
   "execution_count": 63,
   "id": "32fc8bc4-e5bb-4fad-b5df-24ef4a1ca632",
   "metadata": {},
   "outputs": [],
   "source": [
    "# Step 1: Load testing dataset into an H2O Frame, excluding the 'Cell_ID' column for prediction\n",
    "test_h2o = count_matrix_PICs.drop('C1')"
   ]
  },
  {
   "cell_type": "code",
   "execution_count": null,
   "id": "76e5723a-bb08-497c-84f7-705c0a6a042e",
   "metadata": {},
   "outputs": [],
   "source": [
    "# Step 2: Make predictions\n",
    "preds_PICs = aml.predict(test_h2o)"
   ]
  },
  {
   "cell_type": "code",
   "execution_count": null,
   "id": "2c217afc-45c7-4b04-8b19-75e224831613",
   "metadata": {},
   "outputs": [],
   "source": [
    "# Step 3: Convert predictions to pandas DataFrame\n",
    "preds_PICs_df = h2o.as_list(preds_PICs)"
   ]
  },
  {
   "cell_type": "code",
   "execution_count": null,
   "id": "bae94b30-23ec-4cf3-97f8-32b8ffd09b7c",
   "metadata": {
    "scrolled": true
   },
   "outputs": [],
   "source": [
    "preds_PICs_df.head"
   ]
  },
  {
   "cell_type": "code",
   "execution_count": null,
   "id": "098b1518-d0d2-474d-8414-b3d87fc35577",
   "metadata": {},
   "outputs": [],
   "source": [
    "# Convert the 'C1' column from the H2O Frame to a pandas Series\n",
    "cell_id_series = h2o.as_list(count_matrix_PICs['C1'])\n",
    "\n",
    "# Concatenate the Cell_ID Series with the predictions DataFrame\n",
    "final_df = pd.concat([cell_id_series.reset_index(drop=True), preds_PICs_df.reset_index(drop=True)], axis=1)\n",
    "\n",
    "# Optionally, you can rename the columns of the final DataFrame for clarity\n",
    "final_df.columns = ['Cell_ID'] + list(preds_PICs_df.columns)\n",
    "\n",
    "# Now 'final_df' contains the 'Cell_ID' matched with each prediction\n",
    "print(final_df.head())"
   ]
  },
  {
   "cell_type": "code",
   "execution_count": null,
   "id": "7c6bb63f-3425-4f8b-b9be-b558ec85edf7",
   "metadata": {},
   "outputs": [],
   "source": [
    "# Step 1 & 2: Find the maximum probability and set predictions below the threshold to \"unknown\"\n",
    "threshold = 0.5\n",
    "# Skip the first column ('Cell_ID') when looking for the maximum probability\n",
    "max_probs = preds_PICs_df.iloc[:, 1:].max(axis=1)\n",
    "final_df['pred'] = preds_PICs_df.iloc[:, 1:].idxmax(axis=1)  # Get the column names of the max values\n",
    "final_df['pred'] = final_df.apply(lambda row: \"unknown\" if max_probs[row.name] < threshold else final_df.loc[row.name, 'pred'], axis=1)\n",
    "\n",
    "# Now 'final_df' contains a new column 'pred' with the adjusted predictions\n",
    "print(final_df.head())"
   ]
  },
  {
   "cell_type": "code",
   "execution_count": 73,
   "id": "a49ba6ce-a7ed-4e2d-bd18-840b9c163ee0",
   "metadata": {},
   "outputs": [],
   "source": [
    "final_df.to_csv(\"PICs_predict_v1.csv\")"
   ]
  },
  {
   "cell_type": "code",
   "execution_count": null,
   "id": "24997aa7-5d8d-44a3-8849-d121f560720e",
   "metadata": {},
   "outputs": [],
   "source": [
    "# save the whole environment\n",
    "import pickle\n",
    "\n",
    "def save_all_objects(filename=\"/data/array2/fwu/PICs/saved_session_022624.pkl\"):\n",
    "    global_objects = globals().copy()  # Copy the global namespace\n",
    "    serializable_objects = {}\n",
    "\n",
    "    for name, obj in global_objects.items():\n",
    "        # Attempt to serialize each object; skip those that cannot be serialized\n",
    "        try:\n",
    "            pickle.dumps(obj)\n",
    "            serializable_objects[name] = obj\n",
    "        except Exception as e:  # Broad exception handling to catch all errors\n",
    "            print(f\"Skipping {name}: {e}\")\n",
    "\n",
    "    # Save the serializable objects to a file\n",
    "    with open(filename, 'wb') as file:\n",
    "        pickle.dump(serializable_objects, file)\n",
    "        print(f\"Saved session to {filename}\")\n",
    "\n",
    "# Call the function to save your session objects\n",
    "save_all_objects()"
   ]
  },
  {
   "cell_type": "code",
   "execution_count": null,
   "id": "1b41723e-4bca-435f-b274-5dd28998572c",
   "metadata": {},
   "outputs": [],
   "source": [
    "h2o.shutdown(prompt=False)"
   ]
  }
 ],
 "metadata": {
  "kernelspec": {
   "display_name": "Python 3 (ipykernel)",
   "language": "python",
   "name": "python3"
  },
  "language_info": {
   "codemirror_mode": {
    "name": "ipython",
    "version": 3
   },
   "file_extension": ".py",
   "mimetype": "text/x-python",
   "name": "python",
   "nbconvert_exporter": "python",
   "pygments_lexer": "ipython3",
   "version": "3.11.8"
  }
 },
 "nbformat": 4,
 "nbformat_minor": 5
}
